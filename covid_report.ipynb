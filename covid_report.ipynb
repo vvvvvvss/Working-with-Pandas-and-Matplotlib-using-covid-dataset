import pandas as pd
import matplotlib.pyplot as plt

# Load the dataset
df = pd.read_csv('covid_data.csv')


# Line graph
plt.figure(figsize=(12, 4))
plt.subplot(1, 3, 1)
plt.plot(df['Date'], df['Survivors'], marker='o', label='Survivors', color='green')
plt.plot(df['Date'], df['Deaths'], marker='x', label='Deaths', color='red')
plt.xlabel('Date')
plt.ylabel('Count')
plt.title('Covid Survivors and Deaths Over Time')
plt.legend()

# Bar graph
plt.subplot(1, 3, 2)
plt.bar(df['Date'], df['Vaccinations'], color='blue')
plt.xlabel('Date')
plt.ylabel('Count')
plt.title('Covid Vaccinations Over Time')

# Scatter plot
plt.subplot(1, 3, 3)
plt.scatter(df['Survivors'], df['Vaccinations'], color='purple', label='Survivors vs Vaccinations')
plt.scatter(df['Deaths'], df['Vaccinations'], color='orange', label='Deaths vs Vaccinations')
plt.xlabel('Count')
plt.ylabel('Vaccinations')
plt.title('Covid Survivors/Deaths vs Vaccinations')
plt.legend()

# Adjust layout for better visualization
plt.tight_layout()

# Show the plots
plt.show()
